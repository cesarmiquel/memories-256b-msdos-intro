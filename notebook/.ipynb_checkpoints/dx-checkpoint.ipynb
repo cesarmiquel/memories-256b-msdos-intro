{
 "cells": [
  {
   "cell_type": "markdown",
   "metadata": {},
   "source": [
    "# Analyzing the contents of DX\n",
    "\n",
    "In the program, a couple of the effects use the `DX` register. This register is basically the high word of the multiplication of the `DI` and the 'magic' number `0xcccd`. To understand why the author uses this number we need to dig a bit into this bit of code:\n",
    "\n",
    "```\n",
    "    mov    ax, 0xcccd\n",
    "    mul    di\n",
    "```\n",
    "\n",
    "Remember that `DI` is basically a counter. When you multiply `DI` (a 16 bit number) with `0xcccd` (another 16 bit numbre) you get a 32 bit number. The high part is stored in `DX` and the lower part in `AX`. If you look at the code you'll see that the `AX` number is discarded so lets focus on `DX`. Lets look at how it behaves as a function of `DI`. For this let's do couple of simple graphs. Lets import the pyplot library:"
   ]
  },
  {
   "cell_type": "code",
   "execution_count": 8,
   "metadata": {},
   "outputs": [],
   "source": [
    "import matplotlib.pyplot as plt"
   ]
  },
  {
   "cell_type": "markdown",
   "metadata": {},
   "source": [
    "and set up two arrays to hold the top (`DH`) and bottom registers (`DL`) part of `DX`"
   ]
  },
  {
   "cell_type": "code",
   "execution_count": 18,
   "metadata": {},
   "outputs": [],
   "source": [
    "result_dh = []\n",
    "result_dl = []"
   ]
  },
  {
   "cell_type": "markdown",
   "metadata": {},
   "source": [
    "Lets loop through the first **n** bytes of DI and calculate `DX`"
   ]
  },
  {
   "cell_type": "code",
   "execution_count": 72,
   "metadata": {},
   "outputs": [],
   "source": [
    "n = 0xffff;\n",
    "for di in range(0, n, 1):\n",
    "\n",
    "    # mov ax, 0xcccd\n",
    "    # mul di\n",
    "    m = di * 0xcccd\n",
    "    dx = (m & 0xffff0000) >> 16\n",
    "    dx = dx & 0xffff\n",
    "    ax = (m & 0xffff)\n",
    "    \n",
    "    result_dl.append(dx & 0xff)\n",
    "    result_dh.append((dx & 0xff00) >> 8)"
   ]
  },
  {
   "cell_type": "markdown",
   "metadata": {},
   "source": [
    "Now lets plot the low and high bytes of `DX` as a function of `DI`"
   ]
  },
  {
   "cell_type": "code",
   "execution_count": 73,
   "metadata": {
    "scrolled": true
   },
   "outputs": [
    {
     "data": {
      "image/png": "[encoded data removed]",
      "text/plain": [
       "<Figure size 432x288 with 1 Axes>"
      ]
     },
     "metadata": {
      "needs_background": "light"
     },
     "output_type": "display_data"
    }
   ],
   "source": [
    "offset = 0\n",
    "plt.plot(result_dl[offset:offset+640])\n",
    "plt.show()"
   ]
  },
  {
   "cell_type": "code",
   "execution_count": 74,
   "metadata": {},
   "outputs": [
    {
     "data": {
      "image/png": "[encoded data removed]",
      "text/plain": [
       "<Figure size 432x288 with 1 Axes>"
      ]
     },
     "metadata": {
      "needs_background": "light"
     },
     "output_type": "display_data"
    }
   ],
   "source": [
    "plt.plot(result_dh[offset:offset+640*2])\n",
    "plt.show()"
   ]
  },
  {
   "cell_type": "markdown",
   "metadata": {},
   "source": [
    "So we see two important properties:\n",
    "\n",
    "1. Both functions have a period of **320** which is the width of the screen.\n",
    "2. In the case of `DL` we see its a sawtooth with period 320.\n",
    "3. In the case of `DH` we see that its an increasing function which basically adds 1 after 320 bytes.\n",
    "\n",
    "These properties of `DX` will be used for some of the effects in the demo."
   ]
  },
  {
   "cell_type": "markdown",
   "metadata": {},
   "source": [
    "## Calculating the XOR of two bytes\n",
    "\n",
    "Lets calculate the table of all possible XOR between two nibbles (4 bit numbers). We can calculate this easily like this:"
   ]
  },
  {
   "cell_type": "code",
   "execution_count": 259,
   "metadata": {},
   "outputs": [
    {
     "data": {
      "text/plain": [
       "[[0, 1, 2, 3, 4, 5, 6, 7, 8, 9, 10, 11, 12, 13, 14, 15],\n",
       " [1, 0, 3, 2, 5, 4, 7, 6, 9, 8, 11, 10, 13, 12, 15, 14],\n",
       " [2, 3, 0, 1, 6, 7, 4, 5, 10, 11, 8, 9, 14, 15, 12, 13],\n",
       " [3, 2, 1, 0, 7, 6, 5, 4, 11, 10, 9, 8, 15, 14, 13, 12],\n",
       " [4, 5, 6, 7, 0, 1, 2, 3, 12, 13, 14, 15, 8, 9, 10, 11],\n",
       " [5, 4, 7, 6, 1, 0, 3, 2, 13, 12, 15, 14, 9, 8, 11, 10],\n",
       " [6, 7, 4, 5, 2, 3, 0, 1, 14, 15, 12, 13, 10, 11, 8, 9],\n",
       " [7, 6, 5, 4, 3, 2, 1, 0, 15, 14, 13, 12, 11, 10, 9, 8],\n",
       " [8, 9, 10, 11, 12, 13, 14, 15, 0, 1, 2, 3, 4, 5, 6, 7],\n",
       " [9, 8, 11, 10, 13, 12, 15, 14, 1, 0, 3, 2, 5, 4, 7, 6],\n",
       " [10, 11, 8, 9, 14, 15, 12, 13, 2, 3, 0, 1, 6, 7, 4, 5],\n",
       " [11, 10, 9, 8, 15, 14, 13, 12, 3, 2, 1, 0, 7, 6, 5, 4],\n",
       " [12, 13, 14, 15, 8, 9, 10, 11, 4, 5, 6, 7, 0, 1, 2, 3],\n",
       " [13, 12, 15, 14, 9, 8, 11, 10, 5, 4, 7, 6, 1, 0, 3, 2],\n",
       " [14, 15, 12, 13, 10, 11, 8, 9, 6, 7, 4, 5, 2, 3, 0, 1],\n",
       " [15, 14, 13, 12, 11, 10, 9, 8, 7, 6, 5, 4, 3, 2, 1, 0]]"
      ]
     },
     "execution_count": 259,
     "metadata": {},
     "output_type": "execute_result"
    }
   ],
   "source": [
    "matrix = []\n",
    "for row in range(0, 16):\n",
    "    matrix.append( map(lambda col: (row ^ col), range(0, 16)) )\n",
    "matrix"
   ]
  },
  {
   "cell_type": "code",
   "execution_count": 265,
   "metadata": {},
   "outputs": [
    {
     "data": {
      "image/png": "[encoded data removed]",
      "text/plain": [
       "<Figure size 432x288 with 1 Axes>"
      ]
     },
     "metadata": {
      "needs_background": "light"
     },
     "output_type": "display_data"
    },
    {
     "data": {
      "image/png": "[encoded data removed]",
      "text/plain": [
       "<Figure size 432x288 with 1 Axes>"
      ]
     },
     "metadata": {
      "needs_background": "light"
     },
     "output_type": "display_data"
    },
    {
     "data": {
      "image/png": "[encoded data removed]",
      "text/plain": [
       "<Figure size 432x288 with 1 Axes>"
      ]
     },
     "metadata": {
      "needs_background": "light"
     },
     "output_type": "display_data"
    },
    {
     "data": {
      "image/png": "[encoded data removed]",
      "text/plain": [
       "<Figure size 432x288 with 1 Axes>"
      ]
     },
     "metadata": {
      "needs_background": "light"
     },
     "output_type": "display_data"
    }
   ],
   "source": [
    "import matplotlib\n",
    "import copy\n",
    "\n",
    "cmap = matplotlib.colors.ListedColormap([\"white\", \"red\"])\n",
    "\n",
    "for mask in [0b1000, 0b0100, 0b0010, 0b0001]:\n",
    "    bits = copy.deepcopy(matrix)\n",
    "    for row in range(0, 16):\n",
    "        for col in range(0, 16):\n",
    "            bits[row][col] = matrix[row][col] & mask\n",
    "\n",
    "\n",
    "    plt.imshow(bits, interpolation='none', cmap=cmap, origin='upper' )\n",
    "    plt.xticks([0,15],['0', '0xf'])\n",
    "    plt.yticks([0,15],['0', '0xf'])\n",
    "    plt.show()\n"
   ]
  },
  {
   "cell_type": "code",
   "execution_count": 328,
   "metadata": {},
   "outputs": [
    {
     "name": "stdout",
     "output_type": "stream",
     "text": [
      "[[61, 65, 45], [61, 65, 45], [61, 65, 45], [61, 65, 45], [61, 65, 45], [45, 65, 49], [45, 65, 49], [45, 65, 49], [45, 65, 49], [45, 65, 49], [61, 65, 45], [61, 65, 45], [61, 65, 45], [61, 65, 45], [61, 65, 45], [45, 65, 49], [45, 65, 49], [45, 65, 49], [45, 65, 49], [45, 65, 49], [61, 65, 45], [61, 65, 45], [61, 65, 45], [61, 65, 45], [61, 65, 45], [45, 65, 49], [45, 65, 49], [45, 65, 49], [45, 65, 49], [45, 65, 49], [61, 65, 45], [61, 65, 45], [61, 65, 45], [61, 65, 45], [61, 65, 45], [45, 65, 49], [45, 65, 49], [45, 65, 49], [45, 65, 49], [45, 65, 49], [253, 85, 255], [253, 85, 255], [253, 85, 255], [253, 85, 255], [253, 85, 255], [16, 16, 16], [16, 16, 16], [16, 16, 16], [16, 16, 16], [16, 16, 16], [253, 85, 255], [253, 85, 255], [253, 85, 255], [253, 85, 255], [253, 85, 255], [16, 16, 16], [16, 16, 16], [16, 16, 16], [16, 16, 16], [16, 16, 16], [253, 85, 255], [253, 85, 255], [253, 85, 255], [253, 85, 255], [253, 85, 255], [16, 16, 16], [16, 16, 16], [16, 16, 16], [16, 16, 16], [16, 16, 16], [253, 85, 255], [253, 85, 255], [253, 85, 255], [253, 85, 255], [253, 85, 255], [16, 16, 16], [16, 16, 16], [16, 16, 16], [16, 16, 16], [16, 16, 16], [61, 65, 45], [61, 65, 45], [61, 65, 45], [61, 65, 45], [61, 65, 45], [45, 65, 49], [45, 65, 49], [45, 65, 49], [45, 65, 49], [45, 65, 49], [61, 65, 45], [61, 65, 45], [61, 65, 45], [61, 65, 45], [61, 65, 45], [45, 65, 49], [45, 65, 49], [45, 65, 49], [45, 65, 49], [45, 65, 49], [61, 65, 45], [61, 65, 45], [61, 65, 45], [61, 65, 45], [61, 65, 45], [45, 65, 49], [45, 65, 49], [45, 65, 49], [45, 65, 49], [45, 65, 49], [61, 65, 45], [61, 65, 45], [61, 65, 45], [61, 65, 45], [61, 65, 45], [45, 65, 49], [45, 65, 49], [45, 65, 49], [45, 65, 49], [45, 65, 49], [253, 85, 255], [253, 85, 255], [253, 85, 255], [253, 85, 255], [253, 85, 255], [16, 16, 16], [16, 16, 16], [16, 16, 16], [16, 16, 16], [16, 16, 16], [253, 85, 255], [253, 85, 255], [253, 85, 255], [253, 85, 255], [253, 85, 255], [16, 16, 16], [16, 16, 16], [16, 16, 16], [16, 16, 16], [16, 16, 16], [253, 85, 255], [253, 85, 255], [253, 85, 255], [253, 85, 255], [253, 85, 255], [16, 16, 16], [16, 16, 16], [16, 16, 16], [16, 16, 16], [16, 16, 16], [253, 85, 255], [253, 85, 255], [253, 85, 255], [253, 85, 255], [253, 85, 255], [16, 16, 16], [16, 16, 16], [16, 16, 16], [16, 16, 16], [16, 16, 16], [61, 65, 45], [61, 65, 45], [61, 65, 45], [61, 65, 45], [61, 65, 45], [45, 65, 49], [45, 65, 49], [45, 65, 49], [45, 65, 49], [45, 65, 49], [61, 65, 45], [61, 65, 45], [61, 65, 45], [61, 65, 45], [61, 65, 45], [45, 65, 49], [45, 65, 49], [45, 65, 49], [45, 65, 49], [45, 65, 49], [61, 65, 45], [61, 65, 45], [61, 65, 45], [61, 65, 45], [61, 65, 45], [45, 65, 49], [45, 65, 49], [45, 65, 49], [45, 65, 49], [45, 65, 49], [61, 65, 45], [61, 65, 45], [61, 65, 45], [61, 65, 45], [61, 65, 45], [45, 65, 49], [45, 65, 49], [45, 65, 49], [45, 65, 49], [45, 65, 49], [253, 85, 255], [253, 85, 255], [253, 85, 255], [253, 85, 255], [253, 85, 255], [16, 16, 16], [16, 16, 16], [16, 16, 16], [16, 16, 16], [16, 16, 16], [253, 85, 255], [253, 85, 255], [253, 85, 255], [253, 85, 255], [253, 85, 255], [16, 16, 16], [16, 16, 16], [16, 16, 16], [16, 16, 16], [16, 16, 16], [253, 85, 255], [253, 85, 255], [253, 85, 255], [253, 85, 255], [253, 85, 255], [16, 16, 16], [16, 16, 16], [16, 16, 16], [16, 16, 16], [16, 16, 16], [253, 85, 255], [253, 85, 255], [253, 85, 255], [253, 85, 255], [253, 85, 255], [16, 16, 16], [16, 16, 16], [16, 16, 16], [16, 16, 16], [16, 16, 16], [61, 65, 45], [61, 65, 45], [61, 65, 45], [61, 65, 45], [61, 65, 45], [45, 65, 49], [45, 65, 49], [45, 65, 49], [45, 65, 49], [45, 65, 49], [61, 65, 45], [61, 65, 45], [61, 65, 45], [61, 65, 45], [61, 65, 45], [45, 65, 49], [45, 65, 49], [45, 65, 49], [45, 65, 49], [45, 65, 49], [61, 65, 45], [61, 65, 45], [61, 65, 45], [61, 65, 45], [61, 65, 45], [45, 65, 49], [45, 65, 49], [45, 65, 49], [45, 65, 49], [45, 65, 49], [61, 65, 45], [61, 65, 45], [61, 65, 45], [61, 65, 45], [61, 65, 45], [45, 65, 49], [45, 65, 49], [45, 65, 49], [45, 65, 49], [45, 65, 49], [253, 85, 255], [253, 85, 255], [253, 85, 255], [253, 85, 255], [253, 85, 255], [16, 16, 16], [16, 16, 16], [16, 16, 16], [16, 16, 16], [16, 16, 16], [253, 85, 255], [253, 85, 255], [253, 85, 255], [253, 85, 255], [253, 85, 255], [16, 16, 16], [16, 16, 16], [16, 16, 16], [16, 16, 16], [16, 16, 16], [253, 85, 255], [253, 85, 255], [253, 85, 255], [253, 85, 255], [253, 85, 255], [16, 16, 16], [16, 16, 16], [16, 16, 16], [16, 16, 16], [16, 16, 16], [253, 85, 255], [253, 85, 255], [253, 85, 255], [253, 85, 255], [253, 85, 255], [16, 16, 16], [16, 16, 16], [16, 16, 16], [16, 16, 16], 0, 0]\n"
     ]
    },
    {
     "ename": "TypeError",
     "evalue": "Image data cannot be converted to float",
     "output_type": "error",
     "traceback": [
      "\u001b[0;31m---------------------------------------------------------------------------\u001b[0m",
      "\u001b[0;31mTypeError\u001b[0m                                 Traceback (most recent call last)",
      "\u001b[0;32m<ipython-input-328-abb7eaf43c9b>\u001b[0m in \u001b[0;36m<module>\u001b[0;34m()\u001b[0m\n\u001b[1;32m     48\u001b[0m \u001b[0;32mprint\u001b[0m \u001b[0mrgb\u001b[0m\u001b[0;34m[\u001b[0m\u001b[0;36m0\u001b[0m\u001b[0;34m]\u001b[0m\u001b[0;34m\u001b[0m\u001b[0m\n\u001b[1;32m     49\u001b[0m \u001b[0;34m\u001b[0m\u001b[0m\n\u001b[0;32m---> 50\u001b[0;31m \u001b[0mplt\u001b[0m\u001b[0;34m.\u001b[0m\u001b[0mimshow\u001b[0m\u001b[0;34m(\u001b[0m\u001b[0mrgb\u001b[0m\u001b[0;34m,\u001b[0m \u001b[0minterpolation\u001b[0m\u001b[0;34m=\u001b[0m\u001b[0;34m'none'\u001b[0m\u001b[0;34m,\u001b[0m \u001b[0mcmap\u001b[0m\u001b[0;34m=\u001b[0m\u001b[0mcmap\u001b[0m\u001b[0;34m,\u001b[0m \u001b[0morigin\u001b[0m\u001b[0;34m=\u001b[0m\u001b[0;34m'lower'\u001b[0m \u001b[0;34m)\u001b[0m\u001b[0;34m\u001b[0m\u001b[0m\n\u001b[0m\u001b[1;32m     51\u001b[0m \u001b[0mplt\u001b[0m\u001b[0;34m.\u001b[0m\u001b[0mxticks\u001b[0m\u001b[0;34m(\u001b[0m\u001b[0;34m[\u001b[0m\u001b[0;36m0\u001b[0m\u001b[0;34m,\u001b[0m\u001b[0;36m320\u001b[0m\u001b[0;34m]\u001b[0m\u001b[0;34m,\u001b[0m\u001b[0;34m[\u001b[0m\u001b[0;34m'0'\u001b[0m\u001b[0;34m,\u001b[0m \u001b[0;34m'320'\u001b[0m\u001b[0;34m]\u001b[0m\u001b[0;34m)\u001b[0m\u001b[0;34m\u001b[0m\u001b[0m\n\u001b[1;32m     52\u001b[0m \u001b[0mplt\u001b[0m\u001b[0;34m.\u001b[0m\u001b[0myticks\u001b[0m\u001b[0;34m(\u001b[0m\u001b[0;34m[\u001b[0m\u001b[0;36m0\u001b[0m\u001b[0;34m,\u001b[0m\u001b[0;36m200\u001b[0m\u001b[0;34m]\u001b[0m\u001b[0;34m,\u001b[0m\u001b[0;34m[\u001b[0m\u001b[0;34m'0'\u001b[0m\u001b[0;34m,\u001b[0m \u001b[0;34m'200'\u001b[0m\u001b[0;34m]\u001b[0m\u001b[0;34m)\u001b[0m\u001b[0;34m\u001b[0m\u001b[0m\n",
      "\u001b[0;32m/home/miquel/.local/lib/python2.7/site-packages/matplotlib/pyplot.pyc\u001b[0m in \u001b[0;36mimshow\u001b[0;34m(X, cmap, norm, aspect, interpolation, alpha, vmin, vmax, origin, extent, shape, filternorm, filterrad, imlim, resample, url, hold, data, **kwargs)\u001b[0m\n\u001b[1;32m   3208\u001b[0m                         \u001b[0mfilternorm\u001b[0m\u001b[0;34m=\u001b[0m\u001b[0mfilternorm\u001b[0m\u001b[0;34m,\u001b[0m \u001b[0mfilterrad\u001b[0m\u001b[0;34m=\u001b[0m\u001b[0mfilterrad\u001b[0m\u001b[0;34m,\u001b[0m\u001b[0;34m\u001b[0m\u001b[0m\n\u001b[1;32m   3209\u001b[0m                         \u001b[0mimlim\u001b[0m\u001b[0;34m=\u001b[0m\u001b[0mimlim\u001b[0m\u001b[0;34m,\u001b[0m \u001b[0mresample\u001b[0m\u001b[0;34m=\u001b[0m\u001b[0mresample\u001b[0m\u001b[0;34m,\u001b[0m \u001b[0murl\u001b[0m\u001b[0;34m=\u001b[0m\u001b[0murl\u001b[0m\u001b[0;34m,\u001b[0m \u001b[0mdata\u001b[0m\u001b[0;34m=\u001b[0m\u001b[0mdata\u001b[0m\u001b[0;34m,\u001b[0m\u001b[0;34m\u001b[0m\u001b[0m\n\u001b[0;32m-> 3210\u001b[0;31m                         **kwargs)\n\u001b[0m\u001b[1;32m   3211\u001b[0m     \u001b[0;32mfinally\u001b[0m\u001b[0;34m:\u001b[0m\u001b[0;34m\u001b[0m\u001b[0m\n\u001b[1;32m   3212\u001b[0m         \u001b[0max\u001b[0m\u001b[0;34m.\u001b[0m\u001b[0m_hold\u001b[0m \u001b[0;34m=\u001b[0m \u001b[0mwashold\u001b[0m\u001b[0;34m\u001b[0m\u001b[0m\n",
      "\u001b[0;32m/home/miquel/.local/lib/python2.7/site-packages/matplotlib/__init__.pyc\u001b[0m in \u001b[0;36minner\u001b[0;34m(ax, *args, **kwargs)\u001b[0m\n\u001b[1;32m   1868\u001b[0m                         \u001b[0;34m\"the Matplotlib list!)\"\u001b[0m \u001b[0;34m%\u001b[0m \u001b[0;34m(\u001b[0m\u001b[0mlabel_namer\u001b[0m\u001b[0;34m,\u001b[0m \u001b[0mfunc\u001b[0m\u001b[0;34m.\u001b[0m\u001b[0m__name__\u001b[0m\u001b[0;34m)\u001b[0m\u001b[0;34m,\u001b[0m\u001b[0;34m\u001b[0m\u001b[0m\n\u001b[1;32m   1869\u001b[0m                         RuntimeWarning, stacklevel=2)\n\u001b[0;32m-> 1870\u001b[0;31m             \u001b[0;32mreturn\u001b[0m \u001b[0mfunc\u001b[0m\u001b[0;34m(\u001b[0m\u001b[0max\u001b[0m\u001b[0;34m,\u001b[0m \u001b[0;34m*\u001b[0m\u001b[0margs\u001b[0m\u001b[0;34m,\u001b[0m \u001b[0;34m**\u001b[0m\u001b[0mkwargs\u001b[0m\u001b[0;34m)\u001b[0m\u001b[0;34m\u001b[0m\u001b[0m\n\u001b[0m\u001b[1;32m   1871\u001b[0m \u001b[0;34m\u001b[0m\u001b[0m\n\u001b[1;32m   1872\u001b[0m         inner.__doc__ = _add_data_doc(inner.__doc__,\n",
      "\u001b[0;32m/home/miquel/.local/lib/python2.7/site-packages/matplotlib/axes/_axes.pyc\u001b[0m in \u001b[0;36mimshow\u001b[0;34m(self, X, cmap, norm, aspect, interpolation, alpha, vmin, vmax, origin, extent, shape, filternorm, filterrad, imlim, resample, url, **kwargs)\u001b[0m\n\u001b[1;32m   5499\u001b[0m                               resample=resample, **kwargs)\n\u001b[1;32m   5500\u001b[0m \u001b[0;34m\u001b[0m\u001b[0m\n\u001b[0;32m-> 5501\u001b[0;31m         \u001b[0mim\u001b[0m\u001b[0;34m.\u001b[0m\u001b[0mset_data\u001b[0m\u001b[0;34m(\u001b[0m\u001b[0mX\u001b[0m\u001b[0;34m)\u001b[0m\u001b[0;34m\u001b[0m\u001b[0m\n\u001b[0m\u001b[1;32m   5502\u001b[0m         \u001b[0mim\u001b[0m\u001b[0;34m.\u001b[0m\u001b[0mset_alpha\u001b[0m\u001b[0;34m(\u001b[0m\u001b[0malpha\u001b[0m\u001b[0;34m)\u001b[0m\u001b[0;34m\u001b[0m\u001b[0m\n\u001b[1;32m   5503\u001b[0m         \u001b[0;32mif\u001b[0m \u001b[0mim\u001b[0m\u001b[0;34m.\u001b[0m\u001b[0mget_clip_path\u001b[0m\u001b[0;34m(\u001b[0m\u001b[0;34m)\u001b[0m \u001b[0;32mis\u001b[0m \u001b[0mNone\u001b[0m\u001b[0;34m:\u001b[0m\u001b[0;34m\u001b[0m\u001b[0m\n",
      "\u001b[0;32m/home/miquel/.local/lib/python2.7/site-packages/matplotlib/image.pyc\u001b[0m in \u001b[0;36mset_data\u001b[0;34m(self, A)\u001b[0m\n\u001b[1;32m    640\u001b[0m         if (self._A.dtype != np.uint8 and\n\u001b[1;32m    641\u001b[0m                 not np.can_cast(self._A.dtype, float, \"same_kind\")):\n\u001b[0;32m--> 642\u001b[0;31m             \u001b[0;32mraise\u001b[0m \u001b[0mTypeError\u001b[0m\u001b[0;34m(\u001b[0m\u001b[0;34m\"Image data cannot be converted to float\"\u001b[0m\u001b[0;34m)\u001b[0m\u001b[0;34m\u001b[0m\u001b[0m\n\u001b[0m\u001b[1;32m    643\u001b[0m \u001b[0;34m\u001b[0m\u001b[0m\n\u001b[1;32m    644\u001b[0m         if not (self._A.ndim == 2\n",
      "\u001b[0;31mTypeError\u001b[0m: Image data cannot be converted to float"
     ]
    },
    {
     "data": {
      "image/png": "[encoded data removed]",
      "text/plain": [
       "<Figure size 432x288 with 1 Axes>"
      ]
     },
     "metadata": {
      "needs_background": "light"
     },
     "output_type": "display_data"
    }
   ],
   "source": [
    "import numpy as np\n",
    "\n",
    "vga_memory = []\n",
    "for di in range(0, 0xffff + 1):\n",
    "\n",
    "    # mov ax, 0xcccd\n",
    "    # mul di\n",
    "    m = di * 0xcccd\n",
    "    dx = (m & 0xffff0000) >> 16\n",
    "    dx = dx & 0xffff\n",
    "    \n",
    "    # xchg  ax, dx\n",
    "    ax = dx\n",
    "    \n",
    "    # xor al, ah\n",
    "    al = 0xff & ax\n",
    "    ah = (0xff00 & ax) >> 8\n",
    "    al = al ^ ah \n",
    "    \n",
    "    # or al, 0xDB\n",
    "    al = al | 0xDB\n",
    "    \n",
    "    # add al, 13h\n",
    "    al = al + 0x13\n",
    "    al = al & 0xff # convert to 8bit\n",
    "    \n",
    "    vga_memory.append(al)\n",
    "\n",
    "bits = np.mat(vga_memory[0:320*200])\n",
    "bits = bits.reshape(200, 320)\n",
    "\n",
    "cmap = matplotlib.colors.ListedColormap([\"white\", \"red\", \"black\", \"gray\"])\n",
    "\n",
    "# Convert to RGB\n",
    "palette = {\n",
    "    238:[61, 65, 45],  # 0xEE\n",
    "    18:[16, 16, 16],   # 0x12\n",
    "    242:[45, 65, 49],  # 0xF2\n",
    "    14:[253, 85, 255], #0xE\n",
    "}\n",
    "\n",
    "rgb = [[0 for x in range(0, 321)] for y in range(0, 201)] \n",
    "for row in range(0, 200 - 1):\n",
    "    for col in range(0, 320 - 1):\n",
    "        #print \"%d, %d\" % (row, col)\n",
    "        rgb[row][col] = palette[ bits[row,col] ]\n",
    "\n",
    "plt.imshow(rgb, interpolation='none', cmap=cmap, origin='lower' )\n",
    "plt.xticks([0,320],['0', '320'])\n",
    "plt.yticks([0,200],['0', '200'])\n",
    "plt.show()"
   ]
  },
  {
   "cell_type": "code",
   "execution_count": 233,
   "metadata": {},
   "outputs": [
    {
     "data": {
      "image/png": "[encoded data removed]",
      "text/plain": [
       "<Figure size 432x288 with 1 Axes>"
      ]
     },
     "metadata": {
      "needs_background": "light"
     },
     "output_type": "display_data"
    },
    {
     "data": {
      "image/png": "[encoded data removed]",
      "text/plain": [
       "<Figure size 432x288 with 1 Axes>"
      ]
     },
     "metadata": {
      "needs_background": "light"
     },
     "output_type": "display_data"
    },
    {
     "data": {
      "image/png": "[encoded data removed]",
      "text/plain": [
       "<Figure size 432x288 with 1 Axes>"
      ]
     },
     "metadata": {
      "needs_background": "light"
     },
     "output_type": "display_data"
    },
    {
     "data": {
      "image/png": "[encoded data removed]",
      "text/plain": [
       "<Figure size 432x288 with 1 Axes>"
      ]
     },
     "metadata": {
      "needs_background": "light"
     },
     "output_type": "display_data"
    }
   ],
   "source": [
    "import matplotlib\n",
    "\n",
    "cmap = matplotlib.colors.ListedColormap([\"white\", \"red\"])\n",
    "\n",
    "bits = [[0 for x in range(0, 16)] for y in range(0, 16)] \n",
    "mask = 0b0010\n",
    "for mask in [0b1000, 0b0100, 0b0010, 0b0001]:\n",
    "    for i in range(0, 16):\n",
    "        for j in range(0, 16):\n",
    "            val = 0\n",
    "            if (i ^ j) & mask > 0:\n",
    "                val = 1\n",
    "            bits[i][j] = val\n",
    "\n",
    "    plt.imshow(bits, interpolation='none', cmap=cmap, origin='lower' )\n",
    "    plt.xticks([0,15],['0', '0xf'])\n",
    "    plt.yticks([0,15],['0', '0xf'])\n",
    "    plt.show()\n"
   ]
  },
  {
   "cell_type": "code",
   "execution_count": 198,
   "metadata": {},
   "outputs": [
    {
     "data": {
      "text/plain": [
       "[1, 2, 3, 4, 5, 6, 7, 8, 9, 10, 11, 12, 13, 14, 15]"
      ]
     },
     "execution_count": 198,
     "metadata": {},
     "output_type": "execute_result"
    }
   ],
   "source": [
    "range(1, 16)"
   ]
  },
  {
   "cell_type": "code",
   "execution_count": null,
   "metadata": {},
   "outputs": [],
   "source": []
  }
 ],
 "metadata": {
  "kernelspec": {
   "display_name": "Python 2",
   "language": "python",
   "name": "python2"
  },
  "language_info": {
   "codemirror_mode": {
    "name": "ipython",
    "version": 2
   },
   "file_extension": ".py",
   "mimetype": "text/x-python",
   "name": "python",
   "nbconvert_exporter": "python",
   "pygments_lexer": "ipython2",
   "version": "2.7.17"
  }
 },
 "nbformat": 4,
 "nbformat_minor": 4
}
